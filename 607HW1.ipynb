{
 "cells": [
  {
   "cell_type": "code",
   "execution_count": 3,
   "id": "6748ca4d",
   "metadata": {},
   "outputs": [],
   "source": [
    "import numpy as np\n",
    "import pandas as pd\n",
    "import statistics\n",
    "import seaborn as sns\n",
    "import matplotlib.pyplot as plt\n",
    "dataset = pd.read_excel(\"C:\\\\Users\\\\kotaa\\\\OneDrive\\\\Desktop\\\\Attrition.xlsx\")"
   ]
  },
  {
   "cell_type": "code",
   "execution_count": null,
   "id": "bcc14f06",
   "metadata": {},
   "outputs": [],
   "source": []
  },
  {
   "cell_type": "code",
   "execution_count": 16,
   "id": "73926606",
   "metadata": {},
   "outputs": [
    {
     "data": {
      "text/plain": [
       "Age    34.666667\n",
       "dtype: float64"
      ]
     },
     "execution_count": 16,
     "metadata": {},
     "output_type": "execute_result"
    }
   ],
   "source": [
    "dataset[['Age']].mean()"
   ]
  },
  {
   "cell_type": "code",
   "execution_count": 17,
   "id": "31669578",
   "metadata": {},
   "outputs": [
    {
     "data": {
      "text/plain": [
       "32.5"
      ]
     },
     "execution_count": 17,
     "metadata": {},
     "output_type": "execute_result"
    }
   ],
   "source": [
    "dataset['Age'].median()"
   ]
  },
  {
   "cell_type": "code",
   "execution_count": 18,
   "id": "e9ddec98",
   "metadata": {},
   "outputs": [
    {
     "data": {
      "text/plain": [
       "0    24\n",
       "1    26\n",
       "2    33\n",
       "3    37\n",
       "dtype: int64"
      ]
     },
     "execution_count": 18,
     "metadata": {},
     "output_type": "execute_result"
    }
   ],
   "source": [
    "dataset['Age'].mode()\n"
   ]
  },
  {
   "cell_type": "code",
   "execution_count": 19,
   "id": "480f9215",
   "metadata": {},
   "outputs": [
    {
     "data": {
      "text/plain": [
       "10.97691913166843"
      ]
     },
     "execution_count": 19,
     "metadata": {},
     "output_type": "execute_result"
    }
   ],
   "source": [
    "statistics.stdev(dataset['Age'])"
   ]
  },
  {
   "cell_type": "code",
   "execution_count": 20,
   "id": "795698b9",
   "metadata": {},
   "outputs": [
    {
     "data": {
      "text/plain": [
       "32"
      ]
     },
     "execution_count": 20,
     "metadata": {},
     "output_type": "execute_result"
    }
   ],
   "source": [
    "statistics.median_low(dataset['Age'])"
   ]
  },
  {
   "cell_type": "code",
   "execution_count": 22,
   "id": "76be4226",
   "metadata": {},
   "outputs": [
    {
     "data": {
      "text/plain": [
       "33"
      ]
     },
     "execution_count": 22,
     "metadata": {},
     "output_type": "execute_result"
    }
   ],
   "source": [
    "statistics.median_high(dataset['Age'])"
   ]
  },
  {
   "cell_type": "code",
   "execution_count": 23,
   "id": "825ae9f6",
   "metadata": {},
   "outputs": [
    {
     "data": {
      "text/plain": [
       "19"
      ]
     },
     "execution_count": 23,
     "metadata": {},
     "output_type": "execute_result"
    }
   ],
   "source": [
    "dataset['Age'].min()"
   ]
  },
  {
   "cell_type": "code",
   "execution_count": 24,
   "id": "914bac9c",
   "metadata": {},
   "outputs": [
    {
     "data": {
      "text/plain": [
       "58"
      ]
     },
     "execution_count": 24,
     "metadata": {},
     "output_type": "execute_result"
    }
   ],
   "source": [
    "dataset['Age'].max()"
   ]
  },
  {
   "cell_type": "code",
   "execution_count": 25,
   "id": "1ddcc21a",
   "metadata": {},
   "outputs": [
    {
     "data": {
      "text/html": [
       "<div>\n",
       "<style scoped>\n",
       "    .dataframe tbody tr th:only-of-type {\n",
       "        vertical-align: middle;\n",
       "    }\n",
       "\n",
       "    .dataframe tbody tr th {\n",
       "        vertical-align: top;\n",
       "    }\n",
       "\n",
       "    .dataframe thead th {\n",
       "        text-align: right;\n",
       "    }\n",
       "</style>\n",
       "<table border=\"1\" class=\"dataframe\">\n",
       "  <thead>\n",
       "    <tr style=\"text-align: right;\">\n",
       "      <th></th>\n",
       "      <th>Employee</th>\n",
       "      <th>Age</th>\n",
       "      <th>Attrition</th>\n",
       "    </tr>\n",
       "    <tr>\n",
       "      <th>Department</th>\n",
       "      <th></th>\n",
       "      <th></th>\n",
       "      <th></th>\n",
       "    </tr>\n",
       "  </thead>\n",
       "  <tbody>\n",
       "    <tr>\n",
       "      <th>Human Resources</th>\n",
       "      <td>5</td>\n",
       "      <td>53</td>\n",
       "      <td>No</td>\n",
       "    </tr>\n",
       "    <tr>\n",
       "      <th>Research &amp; development</th>\n",
       "      <td>1</td>\n",
       "      <td>24</td>\n",
       "      <td>Yes</td>\n",
       "    </tr>\n",
       "    <tr>\n",
       "      <th>Sales</th>\n",
       "      <td>3</td>\n",
       "      <td>37</td>\n",
       "      <td>Yes</td>\n",
       "    </tr>\n",
       "  </tbody>\n",
       "</table>\n",
       "</div>"
      ],
      "text/plain": [
       "                        Employee  Age Attrition\n",
       "Department                                     \n",
       "Human Resources                5   53        No\n",
       "Research & development         1   24       Yes\n",
       "Sales                          3   37       Yes"
      ]
     },
     "execution_count": 25,
     "metadata": {},
     "output_type": "execute_result"
    }
   ],
   "source": [
    "dataset.groupby([\"Department\"]).first()"
   ]
  },
  {
   "cell_type": "code",
   "execution_count": 26,
   "id": "35cfaff3",
   "metadata": {},
   "outputs": [
    {
     "name": "stdout",
     "output_type": "stream",
     "text": [
      "Key is: Human Resources\n",
      "    Employee  Age       Department Attrition\n",
      "4          5   53  Human Resources        No\n",
      "5          6   33  Human Resources       Yes\n",
      "15        16   56  Human Resources        No\n",
      "17        18   33  Human Resources       Yes\n",
      "22        23   58  Human Resources        No \n",
      "\n",
      "\n",
      "Key is: Research & development\n",
      "    Employee  Age              Department Attrition\n",
      "0          1   24  Research & development       Yes\n",
      "1          2   49  Research & development        No\n",
      "3          4   32  Research & development        No\n",
      "7          8   27  Research & development        No\n",
      "8          9   35  Research & development        No\n",
      "9         10   24  Research & development       Yes\n",
      "11        12   38  Research & development        No\n",
      "12        13   28  Research & development       yes\n",
      "13        14   23  Research & development       yes\n",
      "16        17   45  Research & development        No\n",
      "20        21   44  Research & development        No\n",
      "21        22   26  Research & development        No \n",
      "\n",
      "\n",
      "Key is: Sales\n",
      "    Employee  Age Department Attrition\n",
      "2          3   37      Sales       Yes\n",
      "6          7   29      Sales        No\n",
      "10        11   31      Sales        No\n",
      "14        15   19      Sales       yes\n",
      "18        19   37      Sales        No\n",
      "19        20   25      Sales       Yes\n",
      "23        24   26      Sales       Yes \n",
      "\n",
      "\n"
     ]
    }
   ],
   "source": [
    "grouped_obj = dataset.groupby([\"Department\"])\n",
    "for key, item in grouped_obj:\n",
    "    print(\"Key is: \" + str(key))\n",
    "    print(str(item), \"\\n\\n\")"
   ]
  },
  {
   "cell_type": "code",
   "execution_count": 27,
   "id": "f760f914",
   "metadata": {},
   "outputs": [
    {
     "data": {
      "text/plain": [
       "Department\n",
       "Human Resources           46.600000\n",
       "Research & development    32.916667\n",
       "Sales                     29.142857\n",
       "Name: Age, dtype: float64"
      ]
     },
     "execution_count": 27,
     "metadata": {},
     "output_type": "execute_result"
    }
   ],
   "source": [
    "dataset.groupby([\"Department\"])[\"Age\"].mean()"
   ]
  },
  {
   "cell_type": "code",
   "execution_count": 28,
   "id": "a3e15553",
   "metadata": {},
   "outputs": [
    {
     "data": {
      "text/plain": [
       "Department\n",
       "Human Resources           53.0\n",
       "Research & development    30.0\n",
       "Sales                     29.0\n",
       "Name: Age, dtype: float64"
      ]
     },
     "execution_count": 28,
     "metadata": {},
     "output_type": "execute_result"
    }
   ],
   "source": [
    "dataset.groupby([\"Department\"])[\"Age\"].median()"
   ]
  },
  {
   "cell_type": "code",
   "execution_count": 5,
   "id": "8c7a9d34",
   "metadata": {},
   "outputs": [
    {
     "data": {
      "text/plain": [
       "Department\n",
       "Human Resources           12.541930\n",
       "Research & development     9.159777\n",
       "Sales                      6.542899\n",
       "Name: Age, dtype: float64"
      ]
     },
     "execution_count": 5,
     "metadata": {},
     "output_type": "execute_result"
    }
   ],
   "source": [
    "dataset.groupby([\"Department\"])[\"Age\"].std()"
   ]
  },
  {
   "cell_type": "code",
   "execution_count": 29,
   "id": "0bb3375a",
   "metadata": {},
   "outputs": [
    {
     "data": {
      "text/plain": [
       "Department               \n",
       "Human Resources         0    33\n",
       "Research & development  0    24\n",
       "Sales                   0    37\n",
       "Name: Age, dtype: int64"
      ]
     },
     "execution_count": 29,
     "metadata": {},
     "output_type": "execute_result"
    }
   ],
   "source": [
    "dataset.groupby([\"Department\"])[\"Age\"].apply(pd.Series.mode)"
   ]
  },
  {
   "cell_type": "code",
   "execution_count": 42,
   "id": "a89b5409",
   "metadata": {},
   "outputs": [
    {
     "data": {
      "text/plain": [
       "<AxesSubplot:xlabel='Age', ylabel='Department'>"
      ]
     },
     "execution_count": 42,
     "metadata": {},
     "output_type": "execute_result"
    },
    {
     "data": {
      "image/png": "[encoded data removed]",
      "text/plain": [
       "<Figure size 432x288 with 1 Axes>"
      ]
     },
     "metadata": {
      "needs_background": "light"
     },
     "output_type": "display_data"
    }
   ],
   "source": [
    "sns.boxplot(x = dataset['Age'],\n",
    "            y = dataset['Department'],\n",
    "           hue= dataset['Attrition'])"
   ]
  },
  {
   "cell_type": "code",
   "execution_count": 34,
   "id": "92c55ce8",
   "metadata": {},
   "outputs": [
    {
     "data": {
      "text/plain": [
       "(array([1., 6., 3., 4., 4., 0., 2., 1., 1., 2.]),\n",
       " array([19. , 22.9, 26.8, 30.7, 34.6, 38.5, 42.4, 46.3, 50.2, 54.1, 58. ]),\n",
       " <BarContainer object of 10 artists>)"
      ]
     },
     "execution_count": 34,
     "metadata": {},
     "output_type": "execute_result"
    },
    {
     "data": {
      "image/png": "[encoded data removed]",
      "text/plain": [
       "<Figure size 432x288 with 1 Axes>"
      ]
     },
     "metadata": {
      "needs_background": "light"
     },
     "output_type": "display_data"
    }
   ],
   "source": [
    "plt.hist(dataset['Age'])"
   ]
  },
  {
   "cell_type": "code",
   "execution_count": 8,
   "id": "20eb0643",
   "metadata": {},
   "outputs": [
    {
     "data": {
      "text/plain": [
       "(array([12.,  0.,  0.,  0.,  0.,  7.,  0.,  0.,  0.,  5.]),\n",
       " array([0. , 0.2, 0.4, 0.6, 0.8, 1. , 1.2, 1.4, 1.6, 1.8, 2. ]),\n",
       " <BarContainer object of 10 artists>)"
      ]
     },
     "execution_count": 8,
     "metadata": {},
     "output_type": "execute_result"
    },
    {
     "data": {
      "image/png": "[encoded data removed]",
      "text/plain": [
       "<Figure size 432x288 with 1 Axes>"
      ]
     },
     "metadata": {
      "needs_background": "light"
     },
     "output_type": "display_data"
    }
   ],
   "source": [
    "plt.hist(dataset['Department'])"
   ]
  },
  {
   "cell_type": "code",
   "execution_count": 38,
   "id": "5eb1eba2",
   "metadata": {},
   "outputs": [
    {
     "data": {
      "text/plain": [
       "(array([10.,  0.,  0.,  0.,  0.,  0.,  0.,  0.,  0., 14.]),\n",
       " array([0. , 0.1, 0.2, 0.3, 0.4, 0.5, 0.6, 0.7, 0.8, 0.9, 1. ]),\n",
       " <BarContainer object of 10 artists>)"
      ]
     },
     "execution_count": 38,
     "metadata": {},
     "output_type": "execute_result"
    },
    {
     "data": {
      "image/png": "[encoded data removed]",
      "text/plain": [
       "<Figure size 432x288 with 1 Axes>"
      ]
     },
     "metadata": {
      "needs_background": "light"
     },
     "output_type": "display_data"
    }
   ],
   "source": [
    "plt.hist(dataset['Attrition'])"
   ]
  },
  {
   "cell_type": "code",
   "execution_count": null,
   "id": "28a4674b",
   "metadata": {},
   "outputs": [],
   "source": []
  }
 ],
 "metadata": {
  "kernelspec": {
   "display_name": "Python 3 (ipykernel)",
   "language": "python",
   "name": "python3"
  },
  "language_info": {
   "codemirror_mode": {
    "name": "ipython",
    "version": 3
   },
   "file_extension": ".py",
   "mimetype": "text/x-python",
   "name": "python",
   "nbconvert_exporter": "python",
   "pygments_lexer": "ipython3",
   "version": "3.9.7"
  }
 },
 "nbformat": 4,
 "nbformat_minor": 5
}
